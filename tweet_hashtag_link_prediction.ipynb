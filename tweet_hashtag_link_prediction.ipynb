{
 "cells": [
  {
   "cell_type": "markdown",
   "id": "8919a358",
   "metadata": {},
   "source": [
    "# 伊藤くんの卒研：ツイート-ハッシュタグ間のリンク予測\n",
    "ポイントは以下のとおり：\n",
    "1. ツイートを BERT により埋め込む → ツイートノードの特徴ベクトルとする。\n",
    "1. ハッシュタグは，番号を振るだけ。（特徴ベクトルを持たない）\n",
    "1. 畳み込み層へ「二部グラフに対応できるモデル」を持ってくる (e.g. SAGEConv は OK / GCNConv は NG)\n",
    "1. ROC-AUC により評価する。\n",
    "\n",
    "コードの元ネタは以下のとおり：\n",
    "- Heterogeneous Graphでグラフニューラルネットワークの学習をやってみた (2022.12.20)\n",
    "- https://engineers.ntt.com/entry/2022/12/20/084912"
   ]
  },
  {
   "cell_type": "code",
   "execution_count": 1,
   "id": "cd67c20e",
   "metadata": {},
   "outputs": [],
   "source": [
    "# 必要なライブラリのインポート\n",
    "import os\n",
    "import numpy as np\n",
    "import pandas as pd\n",
    "from tqdm import tqdm\n",
    "\n",
    "from sklearn.preprocessing import StandardScaler\n",
    "from sklearn.metrics import roc_curve, roc_auc_score\n",
    "import matplotlib.pyplot as plt\n",
    "\n",
    "import torch\n",
    "import torch.nn.functional as F\n",
    "from torch import Tensor\n",
    "from torch.nn import Module\n",
    "\n",
    "import torch_geometric\n",
    "import torch_geometric.transforms as T\n",
    "from torch_geometric.nn import GraphConv, SAGEConv, ResGatedGraphConv, TransformerConv, to_hetero\n",
    "from torch_geometric.data import HeteroData\n",
    "from torch_geometric.loader import LinkNeighborLoader"
   ]
  },
  {
   "cell_type": "code",
   "execution_count": 2,
   "id": "985ae024",
   "metadata": {
    "scrolled": true
   },
   "outputs": [],
   "source": [
    "# データ読み込み\n",
    "import pickle\n",
    "\n",
    "# データの置き場所\n",
    "PARENT_DIR = \"../Data_Olympic_7/\"\n",
    "\n",
    "# データの読み込み（pandas）\n",
    "# ツイートデータを df_text.pkl から／ハッシュタグのデータを movies.pkl から読み込む\n",
    "#df_recipes = pd.read_csv('./data/food/recipes.csv')\n",
    "#df_reviews = pd.read_csv('./data/food/reviews.csv')\n",
    "with open(PARENT_DIR + 'df_text.pkl', 'rb') as f: # tweet\n",
    "    df_tweet = pickle.load(f)\n",
    "with open(PARENT_DIR + 'movies.pkl', 'rb') as f: # tag\n",
    "    df_hashtag = pickle.load(f)\n",
    "\n",
    "# データ準備\n",
    "#df_reviews = df_reviews[df_reviews.RecipeId.isin(df_recipes[\"RecipeId\"].unique())]  # 不要データ除外\n",
    "#df_recipes['RecipeServings'] = df_recipes['RecipeServings'].fillna(df_recipes['RecipeServings'].median())   # 欠損値補完\n",
    "\n",
    "# ハッシュタグノードとツイートノードのIDマップ作成\n",
    "# (メモ) df_text.pkl / movies.pkl の時点で「重複なしの連番が振られている」ため\n",
    "#        ここまで面倒なことをしなくてよい。しかし，元コードを殺さないよう，\n",
    "#        無理矢理，合わせている。\n",
    "unique_hashtag_id = df_hashtag[\"movie_id\"].unique()\n",
    "unique_hashtag_id = pd.DataFrame(\n",
    "    data={\n",
    "        \"hashtag_id\": unique_hashtag_id,\n",
    "        \"mappedID\": pd.RangeIndex(len(unique_hashtag_id)),\n",
    "    }\n",
    ")\n",
    "\n",
    "unique_tweet_id = df_tweet[\"text_id\"].unique()\n",
    "unique_tweet_id = pd.DataFrame(\n",
    "    data={\n",
    "        \"tweet_id\": unique_tweet_id,\n",
    "        \"mappedID\": pd.RangeIndex(len(unique_tweet_id)),\n",
    "    }\n",
    ")\n",
    "'''\n",
    "review_user_id = pd.merge(\n",
    "    df_reviews[\"AuthorId\"],\n",
    "    unique_user_id,\n",
    "    left_on=\"AuthorId\",\n",
    "    right_on=\"user_id\",\n",
    "    how=\"left\",\n",
    ")\n",
    "review_recipe_id = pd.merge(\n",
    "    df_reviews[\"RecipeId\"],\n",
    "    unique_recipe_id,\n",
    "    left_on=\"RecipeId\",\n",
    "    right_on=\"recipe_id\",\n",
    "    how=\"left\",\n",
    ")\n",
    "'''\n",
    "\n",
    "review_hashtag_id = unique_hashtag_id.copy()\n",
    "review_tweet_id = unique_tweet_id.copy()\n",
    "\n",
    "# ハッシュタグIDとツイートIDのエッジ情報をTensorへ変換\n",
    "# (メモ) 元コードではこの時点でエッジ情報を生成しているが，\n",
    "#        卒研では ratings.pkl にエッジ情報が格納されているから，読み込むだけで OK\n",
    "'''\n",
    "tensor_review_user_id = torch.from_numpy(review_user_id[\"mappedID\"].values)\n",
    "tensor_review_recipe_id = torch.from_numpy(review_recipe_id[\"mappedID\"].values)\n",
    "tensor_edge_index_user_to_recipe = torch.stack(\n",
    "    [tensor_review_user_id, tensor_review_recipe_id],\n",
    "    dim=0,\n",
    ")\n",
    "'''\n",
    "\n",
    "with open(PARENT_DIR + \"ratings.pkl\", \"rb\") as f:\n",
    "    df = pickle.load(f)\n",
    "tensor_review_hashtag_id = torch.from_numpy(df['movie_id'].values) # ハッシュタグ\n",
    "tensor_review_tweet_id = torch.from_numpy(df['user_id'].values) # ツイート\n",
    "tensor_edge_index_hashtag_to_tweet = torch.stack(\n",
    "    [tensor_review_hashtag_id, tensor_review_tweet_id],\n",
    "    dim=0,\n",
    ")\n",
    "    \n",
    "# (メモ)\n",
    "# これ以降，review_hashtag_id / review_tweet_id は使用されない\n"
   ]
  },
  {
   "cell_type": "code",
   "execution_count": 3,
   "id": "61279cca",
   "metadata": {
    "scrolled": true
   },
   "outputs": [
    {
     "data": {
      "text/html": [
       "<div>\n",
       "<style scoped>\n",
       "    .dataframe tbody tr th:only-of-type {\n",
       "        vertical-align: middle;\n",
       "    }\n",
       "\n",
       "    .dataframe tbody tr th {\n",
       "        vertical-align: top;\n",
       "    }\n",
       "\n",
       "    .dataframe thead th {\n",
       "        text-align: right;\n",
       "    }\n",
       "</style>\n",
       "<table border=\"1\" class=\"dataframe\">\n",
       "  <thead>\n",
       "    <tr style=\"text-align: right;\">\n",
       "      <th></th>\n",
       "      <th>hashtag_id</th>\n",
       "      <th>mappedID</th>\n",
       "    </tr>\n",
       "  </thead>\n",
       "  <tbody>\n",
       "    <tr>\n",
       "      <th>0</th>\n",
       "      <td>0</td>\n",
       "      <td>0</td>\n",
       "    </tr>\n",
       "    <tr>\n",
       "      <th>1</th>\n",
       "      <td>1</td>\n",
       "      <td>1</td>\n",
       "    </tr>\n",
       "    <tr>\n",
       "      <th>2</th>\n",
       "      <td>2</td>\n",
       "      <td>2</td>\n",
       "    </tr>\n",
       "    <tr>\n",
       "      <th>3</th>\n",
       "      <td>3</td>\n",
       "      <td>3</td>\n",
       "    </tr>\n",
       "    <tr>\n",
       "      <th>4</th>\n",
       "      <td>4</td>\n",
       "      <td>4</td>\n",
       "    </tr>\n",
       "    <tr>\n",
       "      <th>...</th>\n",
       "      <td>...</td>\n",
       "      <td>...</td>\n",
       "    </tr>\n",
       "    <tr>\n",
       "      <th>212</th>\n",
       "      <td>212</td>\n",
       "      <td>212</td>\n",
       "    </tr>\n",
       "    <tr>\n",
       "      <th>213</th>\n",
       "      <td>213</td>\n",
       "      <td>213</td>\n",
       "    </tr>\n",
       "    <tr>\n",
       "      <th>214</th>\n",
       "      <td>214</td>\n",
       "      <td>214</td>\n",
       "    </tr>\n",
       "    <tr>\n",
       "      <th>215</th>\n",
       "      <td>215</td>\n",
       "      <td>215</td>\n",
       "    </tr>\n",
       "    <tr>\n",
       "      <th>216</th>\n",
       "      <td>216</td>\n",
       "      <td>216</td>\n",
       "    </tr>\n",
       "  </tbody>\n",
       "</table>\n",
       "<p>217 rows × 2 columns</p>\n",
       "</div>"
      ],
      "text/plain": [
       "     hashtag_id  mappedID\n",
       "0             0         0\n",
       "1             1         1\n",
       "2             2         2\n",
       "3             3         3\n",
       "4             4         4\n",
       "..          ...       ...\n",
       "212         212       212\n",
       "213         213       213\n",
       "214         214       214\n",
       "215         215       215\n",
       "216         216       216\n",
       "\n",
       "[217 rows x 2 columns]"
      ]
     },
     "execution_count": 3,
     "metadata": {},
     "output_type": "execute_result"
    }
   ],
   "source": [
    "# (確認) ハッシュタグ ID が正確に振られているか，確認\n",
    "# (メモ) これ以降は mappedID の列が使用される\n",
    "review_hashtag_id"
   ]
  },
  {
   "cell_type": "code",
   "execution_count": 3,
   "id": "03ff6186",
   "metadata": {
    "scrolled": true
   },
   "outputs": [
    {
     "data": {
      "text/html": [
       "<div>\n",
       "<style scoped>\n",
       "    .dataframe tbody tr th:only-of-type {\n",
       "        vertical-align: middle;\n",
       "    }\n",
       "\n",
       "    .dataframe tbody tr th {\n",
       "        vertical-align: top;\n",
       "    }\n",
       "\n",
       "    .dataframe thead th {\n",
       "        text-align: right;\n",
       "    }\n",
       "</style>\n",
       "<table border=\"1\" class=\"dataframe\">\n",
       "  <thead>\n",
       "    <tr style=\"text-align: right;\">\n",
       "      <th></th>\n",
       "      <th>tweet_id</th>\n",
       "      <th>mappedID</th>\n",
       "    </tr>\n",
       "  </thead>\n",
       "  <tbody>\n",
       "    <tr>\n",
       "      <th>0</th>\n",
       "      <td>0</td>\n",
       "      <td>0</td>\n",
       "    </tr>\n",
       "    <tr>\n",
       "      <th>1</th>\n",
       "      <td>1</td>\n",
       "      <td>1</td>\n",
       "    </tr>\n",
       "    <tr>\n",
       "      <th>2</th>\n",
       "      <td>2</td>\n",
       "      <td>2</td>\n",
       "    </tr>\n",
       "    <tr>\n",
       "      <th>3</th>\n",
       "      <td>3</td>\n",
       "      <td>3</td>\n",
       "    </tr>\n",
       "    <tr>\n",
       "      <th>4</th>\n",
       "      <td>4</td>\n",
       "      <td>4</td>\n",
       "    </tr>\n",
       "    <tr>\n",
       "      <th>...</th>\n",
       "      <td>...</td>\n",
       "      <td>...</td>\n",
       "    </tr>\n",
       "    <tr>\n",
       "      <th>86116</th>\n",
       "      <td>86116</td>\n",
       "      <td>86116</td>\n",
       "    </tr>\n",
       "    <tr>\n",
       "      <th>86117</th>\n",
       "      <td>86117</td>\n",
       "      <td>86117</td>\n",
       "    </tr>\n",
       "    <tr>\n",
       "      <th>86118</th>\n",
       "      <td>86118</td>\n",
       "      <td>86118</td>\n",
       "    </tr>\n",
       "    <tr>\n",
       "      <th>86119</th>\n",
       "      <td>86119</td>\n",
       "      <td>86119</td>\n",
       "    </tr>\n",
       "    <tr>\n",
       "      <th>86120</th>\n",
       "      <td>86120</td>\n",
       "      <td>86120</td>\n",
       "    </tr>\n",
       "  </tbody>\n",
       "</table>\n",
       "<p>86121 rows × 2 columns</p>\n",
       "</div>"
      ],
      "text/plain": [
       "       tweet_id  mappedID\n",
       "0             0         0\n",
       "1             1         1\n",
       "2             2         2\n",
       "3             3         3\n",
       "4             4         4\n",
       "...         ...       ...\n",
       "86116     86116     86116\n",
       "86117     86117     86117\n",
       "86118     86118     86118\n",
       "86119     86119     86119\n",
       "86120     86120     86120\n",
       "\n",
       "[86121 rows x 2 columns]"
      ]
     },
     "execution_count": 3,
     "metadata": {},
     "output_type": "execute_result"
    }
   ],
   "source": [
    "# (確認) ツイート ID が正確に振られているか，確認\n",
    "# (メモ) これ以降は mappedID の列が使用される\n",
    "review_tweet_id"
   ]
  },
  {
   "cell_type": "code",
   "execution_count": 4,
   "id": "4476e9f0",
   "metadata": {},
   "outputs": [
    {
     "name": "stdout",
     "output_type": "stream",
     "text": [
      "tensor([[    0,     1,     2,  ...,    95,     4,    76],\n",
      "        [    0,     0,     0,  ..., 86118, 86119, 86120]])\n",
      "Number of edge: 113967\n"
     ]
    }
   ],
   "source": [
    "# (確認) エッジ情報の確認\n",
    "print(tensor_edge_index_hashtag_to_tweet)\n",
    "print(\"Number of edge:\", len(tensor_edge_index_hashtag_to_tweet[0]))"
   ]
  },
  {
   "cell_type": "code",
   "execution_count": 5,
   "id": "46eac015",
   "metadata": {},
   "outputs": [],
   "source": [
    "# tweetノードの特徴量定義\n",
    "# (メモ) 別プログラムにおいて，ツイートの埋め込み(e.g. BERT embedding) を\n",
    "#        行っているため，ここでは読み込むだけである。\n",
    "'''\n",
    "recipe_feature_cols = [\n",
    "    \"Calories\", \"FatContent\", \"SaturatedFatContent\",\n",
    "    \"CholesterolContent\", \"SodiumContent\", \"CarbohydrateContent\",\n",
    "    \"FiberContent\", \"SugarContent\", \"ProteinContent\",\n",
    "    \"RecipeServings\",\n",
    "]\n",
    "df_recipes_feature = pd.merge(df_recipes, unique_recipe_id, left_on='RecipeId', right_on='recipe_id', how='left')\n",
    "df_recipes_feature = df_recipes_feature.sort_values('mappedID').set_index('mappedID')\n",
    "df_recipes_feature = df_recipes_feature[df_recipes_feature.index.notnull()]\n",
    "df_recipes_feature = df_recipes_feature[recipe_feature_cols]\n",
    "\n",
    "# 標準化\n",
    "scaler = StandardScaler()\n",
    "scaler.fit(df_recipes_feature)\n",
    "scaler.transform(df_recipes_feature)\n",
    "df_recipes_feature = pd.DataFrame(scaler.transform(df_recipes_feature), columns=df_recipes_feature.columns)\n",
    "\n",
    "# レシピノードの特徴量をTensorへ変換\n",
    "tensor_recipes_feature = torch.from_numpy(df_recipes_feature.values).to(torch.float)\n",
    "'''\n",
    "text_vectors = np.load(PARENT_DIR + 'tweet_vector.npy')\n",
    "tensor_tweet_feature = torch.from_numpy(text_vectors).to(torch.float)"
   ]
  },
  {
   "cell_type": "code",
   "execution_count": 6,
   "id": "6e571528",
   "metadata": {},
   "outputs": [],
   "source": [
    "# データローダの定義\n",
    "\n",
    "# HeteroDataオブジェクトの作成\n",
    "data = HeteroData()\n",
    "data['hashtag'].node_id = torch.arange(len(unique_hashtag_id))\n",
    "data['tweet'].node_id = torch.arange(len(unique_tweet_id))\n",
    "data['tweet'].x = tensor_tweet_feature\n",
    "data['hashtag', 'review', 'tweet'].edge_index = tensor_edge_index_hashtag_to_tweet\n",
    "data = T.ToUndirected()(data)\n",
    "\n",
    "# 学習・評価用のデータ分割\n",
    "transform = T.RandomLinkSplit(\n",
    "    num_val=0.1,\n",
    "    num_test=0.1, \n",
    "    disjoint_train_ratio=0.3,\n",
    "    neg_sampling_ratio=2,\n",
    "    add_negative_train_samples=False,\n",
    "    edge_types=(\"hashtag\", \"review\", \"tweet\"),\n",
    "    rev_edge_types=(\"tweet\", \"rev_review\", \"hashtag\"), \n",
    ")\n",
    "train_data, val_data, test_data=transform(data)\n",
    "\n",
    "BATCH_SIZE = 64 #256\n",
    "\n",
    "# 学習用データローダー定義\n",
    "edge_label_index = train_data[\"hashtag\", \"review\", \"tweet\"].edge_label_index\n",
    "edge_label = train_data[\"hashtag\", \"review\", \"tweet\"].edge_label\n",
    "train_loader = LinkNeighborLoader(\n",
    "    data=train_data,\n",
    "    num_neighbors=[20, 10],\n",
    "    neg_sampling_ratio=2,\n",
    "    edge_label_index=((\"hashtag\", \"review\", \"tweet\"), edge_label_index),\n",
    "    edge_label=edge_label,\n",
    "    batch_size=BATCH_SIZE,\n",
    "    shuffle=True,\n",
    ")\n",
    "\n",
    "# 検証用データローダー定義\n",
    "edge_label_index = val_data[\"hashtag\", \"review\", \"tweet\"].edge_label_index\n",
    "edge_label = val_data[\"hashtag\", \"review\", \"tweet\"].edge_label\n",
    "val_loader = LinkNeighborLoader(\n",
    "    data=val_data,\n",
    "    num_neighbors=[20, 10],\n",
    "    edge_label_index=((\"hashtag\", \"review\", \"tweet\"), edge_label_index),\n",
    "    edge_label=edge_label,\n",
    "    batch_size=3 * BATCH_SIZE,\n",
    "    shuffle=False,\n",
    ")"
   ]
  },
  {
   "cell_type": "code",
   "execution_count": 7,
   "id": "2f23e93b",
   "metadata": {
    "scrolled": true
   },
   "outputs": [
    {
     "data": {
      "text/plain": [
       "HeteroData(\n",
       "  \u001b[1mhashtag\u001b[0m={ node_id=[217] },\n",
       "  \u001b[1mtweet\u001b[0m={\n",
       "    node_id=[86121],\n",
       "    x=[86121, 768]\n",
       "  },\n",
       "  \u001b[1m(hashtag, review, tweet)\u001b[0m={ edge_index=[2, 113967] },\n",
       "  \u001b[1m(tweet, rev_review, hashtag)\u001b[0m={ edge_index=[2, 113967] }\n",
       ")"
      ]
     },
     "execution_count": 7,
     "metadata": {},
     "output_type": "execute_result"
    }
   ],
   "source": [
    "# (確認) グラフを構成するデータの確認\n",
    "data"
   ]
  },
  {
   "cell_type": "code",
   "execution_count": 8,
   "id": "a42db162",
   "metadata": {},
   "outputs": [],
   "source": [
    "# モデルの定義\n",
    "# (2023.01.23 メモ) とりあえず SAGEConv / GraphConv / ResGatedGRaphConv / TransformerConv を引っ張ってくる。\n",
    "class GNN(Module):\n",
    "    def __init__(self, hidden_channels: int):\n",
    "        super().__init__()\n",
    "        # SAGEConv\n",
    "        '''\n",
    "        self.conv1 = SAGEConv(hidden_channels, hidden_channels)\n",
    "        self.conv2 = SAGEConv(hidden_channels, hidden_channels)\n",
    "        '''\n",
    "\n",
    "        # GraphConv\n",
    "        '''\n",
    "        self.conv1 = GraphConv(hidden_channels, hidden_channels)\n",
    "        self.conv2 = GraphConv(hidden_channels, hidden_channels)\n",
    "        '''\n",
    "\n",
    "        # ResGatedGraphConv\n",
    "        '''\n",
    "        self.conv1 = ResGatedGraphConv(hidden_channels, hidden_channels)\n",
    "        self.conv2 = ResGatedGraphConv(hidden_channels, hidden_channels)\n",
    "        '''\n",
    "\n",
    "        # TransformerConv\n",
    "        self.conv1 = TransformerConv(hidden_channels, hidden_channels)\n",
    "        self.conv2 = TransformerConv(hidden_channels, hidden_channels)\n",
    "        \n",
    "    def forward(self, x: Tensor, edge_index: Tensor) -> Tensor:\n",
    "        x = self.conv1(x, edge_index).relu()\n",
    "        x = self.conv2(x, edge_index)\n",
    "        return x\n",
    "\n",
    "\n",
    "class Classifier(Module):\n",
    "    def forward(\n",
    "        self, x_hashtag: Tensor, x_tweet: Tensor, edge_label_index: Tensor\n",
    "    ) -> Tensor:\n",
    "        edge_feat_hashtag = x_hashtag[edge_label_index[0]]\n",
    "        edge_feat_tweet = x_tweet[edge_label_index[1]]\n",
    "\n",
    "        return (edge_feat_hashtag * edge_feat_tweet).sum(dim=-1)\n",
    "\n",
    "\n",
    "class Model(Module):\n",
    "    def __init__(self, hidden_channels: int):\n",
    "        super().__init__()\n",
    "        # self.recipe_lin = torch.nn.Linear(10, hidden_channels)\n",
    "        self.tweet_lin = torch.nn.Linear(768, hidden_channels)\n",
    "        self.hashtag_emb = torch.nn.Embedding(data[\"hashtag\"].num_nodes, hidden_channels)\n",
    "        self.tweet_emb = torch.nn.Embedding(data[\"tweet\"].num_nodes, hidden_channels)\n",
    "        self.gnn = GNN(hidden_channels)\n",
    "        self.gnn = to_hetero(self.gnn, metadata=data.metadata())\n",
    "        self.classifier = Classifier()\n",
    "\n",
    "    def forward(self, data: HeteroData) -> Tensor:\n",
    "        x_dict = {\n",
    "            \"hashtag\": self.hashtag_emb(data[\"hashtag\"].node_id),\n",
    "            \"tweet\": self.tweet_lin(data[\"tweet\"].x) + self.tweet_emb(data[\"tweet\"].node_id),\n",
    "        }\n",
    "\n",
    "        x_dict = self.gnn(x_dict, data.edge_index_dict)\n",
    "\n",
    "        pred = self.classifier(\n",
    "            x_dict[\"hashtag\"],\n",
    "            x_dict[\"tweet\"],\n",
    "            data[\"hashtag\", \"review\", \"tweet\"].edge_label_index,\n",
    "        )\n",
    "\n",
    "        return pred"
   ]
  },
  {
   "cell_type": "code",
   "execution_count": 9,
   "id": "09d8bba6",
   "metadata": {
    "scrolled": true
   },
   "outputs": [
    {
     "name": "stderr",
     "output_type": "stream",
     "text": [
      "100%|█████████████████████████████████████████| 428/428 [00:44<00:00,  9.69it/s]\n"
     ]
    },
    {
     "name": "stdout",
     "output_type": "stream",
     "text": [
      "Epoch: 0001, Loss: -4106280616492296.5000\n"
     ]
    },
    {
     "name": "stderr",
     "output_type": "stream",
     "text": [
      "100%|█████████████████████████████████████████| 428/428 [00:44<00:00,  9.72it/s]\n"
     ]
    },
    {
     "name": "stdout",
     "output_type": "stream",
     "text": [
      "Epoch: 0002, Loss: -1127132438074624640.0000\n"
     ]
    },
    {
     "name": "stderr",
     "output_type": "stream",
     "text": [
      "100%|█████████████████████████████████████████| 428/428 [00:44<00:00,  9.71it/s]\n"
     ]
    },
    {
     "name": "stdout",
     "output_type": "stream",
     "text": [
      "Epoch: 0003, Loss: -8539846168410007552.0000\n"
     ]
    },
    {
     "name": "stderr",
     "output_type": "stream",
     "text": [
      "100%|█████████████████████████████████████████| 428/428 [00:44<00:00,  9.67it/s]\n"
     ]
    },
    {
     "name": "stdout",
     "output_type": "stream",
     "text": [
      "Epoch: 0004, Loss: -42506692613156175872.0000\n"
     ]
    },
    {
     "name": "stderr",
     "output_type": "stream",
     "text": [
      "100%|█████████████████████████████████████████| 428/428 [00:44<00:00,  9.64it/s]\n"
     ]
    },
    {
     "name": "stdout",
     "output_type": "stream",
     "text": [
      "Epoch: 0005, Loss: -135412605137693409280.0000\n"
     ]
    },
    {
     "name": "stderr",
     "output_type": "stream",
     "text": [
      "100%|█████████████████████████████████████████| 179/179 [00:04<00:00, 44.28it/s]\n"
     ]
    },
    {
     "data": {
      "image/png": "[encoded data removed]",
      "text/plain": [
       "<Figure size 432x288 with 1 Axes>"
      ]
     },
     "metadata": {
      "needs_background": "light"
     },
     "output_type": "display_data"
    }
   ],
   "source": [
    "# 学習と評価 (with ROC-AUC)\n",
    "def train(model, loader, device, optimizer, epoch):\n",
    "    model.train()\n",
    "    for epoch in range(1, epoch):\n",
    "        total_loss = total_samples = 0\n",
    "        for batch_data in tqdm(loader):\n",
    "            optimizer.zero_grad()\n",
    "            batch_data = batch_data.to(device)\n",
    "            pred = model(batch_data)\n",
    "            loss = F.binary_cross_entropy_with_logits(\n",
    "                pred, batch_data[\"hashtag\", \"review\", \"tweet\"].edge_label\n",
    "            )\n",
    "            loss.backward()\n",
    "            optimizer.step()\n",
    "            total_loss += float(loss) * pred.numel()\n",
    "            total_samples += pred.numel()\n",
    "        print(f\"Epoch: {epoch:04d}, Loss: {total_loss / total_samples:.4f}\")\n",
    "\n",
    "def validation(model, loader, device, optimizer):\n",
    "    y_preds = []\n",
    "    y_trues = []\n",
    "    model.eval()\n",
    "    for batch_data in tqdm(loader):\n",
    "        with torch.no_grad():\n",
    "            batch_data = batch_data.to(device)\n",
    "            pred = model(batch_data)\n",
    "            y_preds.append(pred)\n",
    "            y_trues.append(batch_data[\"hashtag\", \"review\", \"tweet\"].edge_label)\n",
    "\n",
    "    y_pred = torch.cat(y_preds, dim=0).cpu().numpy()\n",
    "    y_true = torch.cat(y_trues, dim=0).cpu().numpy()\n",
    "    auc = roc_auc_score(y_true, y_pred)\n",
    "    return auc, y_pred, y_true\n",
    "\n",
    "\n",
    "# パラメータの設定\n",
    "model = Model(hidden_channels=768)\n",
    "device = torch.device(\"cuda\" if torch.cuda.is_available() else \"cpu\")\n",
    "optimizer = torch.optim.Adam(model.parameters(), lr=0.001)\n",
    "model = model.to(device)\n",
    "\n",
    "# 学習・評価\n",
    "train(model, train_loader, device, optimizer, 6)\n",
    "auc, y_pred, y_true = validation(model, val_loader, device, optimizer)\n",
    "\n",
    "# 精度確認（ROC-AUC曲線）\n",
    "fpr, tpr, thresholds = roc_curve(y_true, y_pred)\n",
    "plt.plot(fpr, tpr, label=f\"AUC: {auc:.3f}\")\n",
    "plt.xlabel('FPR: False positive rate')\n",
    "plt.ylabel('TPR: True positive rate')\n",
    "plt.legend(loc='lower right')\n",
    "plt.grid()"
   ]
  },
  {
   "cell_type": "markdown",
   "id": "d5034be5",
   "metadata": {},
   "source": [
    "---\n",
    "## 以下は結果を可視化する試み (未完成)\n",
    "mappedID により管理されているノードを，元のツイート／ハッシュタグへ戻し，その中身をチェックする。\n",
    "\n",
    "(TODO) 偽陽性となったエッジ（に繋がるノード）を可視化するコードは未了"
   ]
  },
  {
   "cell_type": "code",
   "execution_count": 10,
   "id": "4f33f030",
   "metadata": {},
   "outputs": [
    {
     "data": {
      "text/plain": [
       "tensor([1., 1., 1.,  ..., 0., 0., 0.])"
      ]
     },
     "execution_count": 10,
     "metadata": {},
     "output_type": "execute_result"
    }
   ],
   "source": [
    "val_data[\"hashtag\", \"review\", \"tweet\"].edge_label # 長さ 7209"
   ]
  },
  {
   "cell_type": "code",
   "execution_count": 11,
   "id": "5238c396",
   "metadata": {},
   "outputs": [
    {
     "data": {
      "text/plain": [
       "tensor([[    0,    80,   110,  ...,    10,    68,    76],\n",
       "        [64743, 45556, 33751,  ..., 22905, 51661, 69544]])"
      ]
     },
     "execution_count": 11,
     "metadata": {},
     "output_type": "execute_result"
    }
   ],
   "source": [
    "val_data[\"hashtag\", \"review\", \"tweet\"].edge_label_index"
   ]
  },
  {
   "cell_type": "code",
   "execution_count": 12,
   "id": "c1ec7044",
   "metadata": {},
   "outputs": [
    {
     "data": {
      "text/plain": [
       "34188"
      ]
     },
     "execution_count": 12,
     "metadata": {},
     "output_type": "execute_result"
    }
   ],
   "source": [
    "val_edge_label_index = val_data[\"hashtag\", \"review\", \"tweet\"].edge_label_index\n",
    "len(val_edge_label_index[0])"
   ]
  },
  {
   "cell_type": "code",
   "execution_count": 14,
   "id": "e1ec8ceb",
   "metadata": {},
   "outputs": [
    {
     "name": "stdout",
     "output_type": "stream",
     "text": [
      "=============\n",
      "#卓球\n",
      "いいぞ水谷いとう！！！！      #卓球\n",
      "=============\n",
      "#スケートボード\n",
      "日本の堀米がオリンピックのスケートボードで金メダル！！      #スケートボード\n",
      "=============\n",
      "#阿部詩\n",
      "すげえ！阿部兄妹！見てへんけど！←   #柔道 #阿部詩 #阿部一二三\n",
      "=============\n",
      "#柔道\n",
      "おめでとう！！　#大野将平  #柔道　\n",
      "=============\n",
      "#オリンピック開催して良かった\n",
      "#オリンピック開催して良かった  1997世代の五輪が東京で開催される奇跡！！   そしてNo.10を我らの堂安が付けている！！！ GKはU23から成長を見届けてきた谷晃生！ めちゃくちゃ嬉しい！！！\n",
      "=============\n",
      "#伊藤美誠\n",
      "水谷選手、伊藤選手、金メダル獲得おめでとうございます！ 最後まで緊張感に包まれた試合、自宅から必死に旗を振って応援しました！ お疲れ様でした！！  #水谷準  #伊藤美誠     #水谷伊藤ペア  #卓球 #卓球混合    \n",
      "=============\n",
      "#阿部一二三\n",
      "兄妹揃ってオリンピックの決勝戦に進んだ家族とか親族ってどんな気分なんだ？全く他人でももう緊張感ハンパなくなってきた笑 #柔道  #阿部詩 #阿部一二三 \n",
      "=============\n",
      "#\n",
      "# 東京五輪とか東京オリンピックって付ければツイートを見てくれる確率が増えるのか、、、\n",
      "=============\n",
      "#卓球\n",
      "卓球混合ダブルス決勝戦は仕事中やから観れんな😢⤵️⤵️  残念ヽ(;´ω｀)ﾉ   #卓球 #混合ダブルス\n",
      "=============\n",
      "#フジテレビ\n",
      "球体開いた！！  キレイな炎🔥❤️‍🔥  #フジテレビ   \n"
     ]
    }
   ],
   "source": [
    "for idx in range(10):\n",
    "    print(\"=============\")\n",
    "    a_hashtag = val_edge_label_index[0][idx].cpu().numpy() # user (tag)\n",
    "    a_tweet = val_edge_label_index[1][idx].cpu().numpy() # recipie (tweet)\n",
    "    target_hashtag = df_hashtag[df_hashtag['movie_id']==a_hashtag]\n",
    "    target_tweet = df_tweet[df_tweet['text_id']==a_tweet]\n",
    "    print(target_hashtag['title'].values[0])\n",
    "    print(target_tweet['original_text'].values[0])"
   ]
  },
  {
   "cell_type": "code",
   "execution_count": null,
   "id": "c1dd3042",
   "metadata": {},
   "outputs": [],
   "source": []
  }
 ],
 "metadata": {
  "kernelspec": {
   "display_name": "Python 3 (ipykernel)",
   "language": "python",
   "name": "python3"
  },
  "language_info": {
   "codemirror_mode": {
    "name": "ipython",
    "version": 3
   },
   "file_extension": ".py",
   "mimetype": "text/x-python",
   "name": "python",
   "nbconvert_exporter": "python",
   "pygments_lexer": "ipython3",
   "version": "3.8.13"
  }
 },
 "nbformat": 4,
 "nbformat_minor": 5
}
